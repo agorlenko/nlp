{
 "cells": [
  {
   "cell_type": "markdown",
   "metadata": {},
   "source": [
    "## Lab assignment 02"
   ]
  },
  {
   "cell_type": "markdown",
   "metadata": {},
   "source": [
    "### Neural Machine Translation in the wild\n",
    "In the third homework you are supposed to get the best translation you can for the EN-RU translation task.\n",
    "\n",
    "Basic approach using RNNs as encoder and decoder is implemented for you. \n",
    "\n",
    "Your ultimate task is to use the techniques we've covered, e.g.\n",
    "\n",
    "* Optimization enhancements (e.g. learning rate decay)\n",
    "\n",
    "* CNN encoder (with or without positional encoding)\n",
    "\n",
    "* attention/self-attention mechanism\n",
    "\n",
    "* pretraining the language model\n",
    "\n",
    "* [Byte Pair Encoding](https://github.com/rsennrich/subword-nmt)\n",
    "\n",
    "* or just fine-tunning BERT ;)\n",
    "\n",
    "to improve the translation quality. \n",
    "\n",
    "__Please use at least three different approaches/models and compare them (translation quality/complexity/training and evaluation time).__\n",
    "\n",
    "Write down some summary on your experiments and illustrate it with convergence plots/metrics and your thoughts. Just like you would approach a real problem."
   ]
  },
  {
   "cell_type": "code",
   "execution_count": 1,
   "metadata": {},
   "outputs": [],
   "source": [
    "# You might need to install the libraries below. Do it in the desired environment\n",
    "# if you are working locally.\n",
    "\n",
    "# ! pip  install subword-nmt\n",
    "# ! pip install nltk\n",
    "# ! pip install torchtext"
   ]
  },
  {
   "cell_type": "code",
   "execution_count": 1,
   "metadata": {},
   "outputs": [
    {
     "name": "stdout",
     "output_type": "stream",
     "text": [
      "Dataset not found locally. Downloading from github.\n",
      "--2022-05-13 01:25:41--  https://raw.githubusercontent.com/neychev/made_nlp_course/master/datasets/Machine_translation_EN_RU/data.txt\n",
      "Resolving raw.githubusercontent.com (raw.githubusercontent.com)... 185.199.111.133, 185.199.108.133, 185.199.109.133, ...\n",
      "Connecting to raw.githubusercontent.com (raw.githubusercontent.com)|185.199.111.133|:443... connected.\n",
      "HTTP request sent, awaiting response... 200 OK\n",
      "Length: 12905334 (12M) [text/plain]\n",
      "Saving to: ‘data.txt’\n",
      "\n",
      "data.txt            100%[===================>]  12.31M  31.5MB/s    in 0.4s    \n",
      "\n",
      "2022-05-13 01:25:43 (31.5 MB/s) - ‘data.txt’ saved [12905334/12905334]\n",
      "\n"
     ]
    }
   ],
   "source": [
    "# Thanks to YSDA NLP course team for the data\n",
    "# (who thanks tilda and deephack teams for the data in their turn)\n",
    "\n",
    "import os\n",
    "path_do_data = '../../datasets/Machine_translation_EN_RU/data.txt'\n",
    "if not os.path.exists(path_do_data):\n",
    "    print(\"Dataset not found locally. Downloading from github.\")\n",
    "    !wget https://raw.githubusercontent.com/neychev/made_nlp_course/master/datasets/Machine_translation_EN_RU/data.txt -nc\n",
    "    path_do_data = './data.txt'"
   ]
  },
  {
   "cell_type": "code",
   "execution_count": 2,
   "metadata": {},
   "outputs": [],
   "source": [
    "path_do_data = './data.txt'"
   ]
  },
  {
   "cell_type": "code",
   "execution_count": 3,
   "metadata": {
    "tags": []
   },
   "outputs": [],
   "source": [
    "import torch\n",
    "import torch.nn as nn\n",
    "import torch.optim as optim\n",
    "\n",
    "import torchtext\n",
    "from torchtext.datasets import Multi30k\n",
    "from torchtext.legacy.datasets import TranslationDataset\n",
    "from torchtext.legacy.data import Field, BucketIterator\n",
    "\n",
    "import spacy\n",
    "\n",
    "import random\n",
    "import math\n",
    "import time\n",
    "\n",
    "import matplotlib\n",
    "matplotlib.rcParams.update({'figure.figsize': (16, 12), 'font.size': 14})\n",
    "import matplotlib.pyplot as plt\n",
    "%matplotlib inline\n",
    "from IPython.display import clear_output\n",
    "\n",
    "from nltk.tokenize import WordPunctTokenizer\n",
    "from subword_nmt.learn_bpe import learn_bpe\n",
    "from subword_nmt.apply_bpe import BPE\n"
   ]
  },
  {
   "cell_type": "markdown",
   "metadata": {},
   "source": [
    "### Main part\n",
    "__Here comes the preprocessing. Do not hesitate to use BPE or more complex preprocessing ;)__"
   ]
  },
  {
   "cell_type": "code",
   "execution_count": 4,
   "metadata": {},
   "outputs": [],
   "source": [
    "tokenizer_W = WordPunctTokenizer()\n",
    "def tokenize(x, tokenizer=tokenizer_W):\n",
    "    return tokenizer.tokenize(x.lower())"
   ]
  },
  {
   "cell_type": "code",
   "execution_count": 5,
   "metadata": {},
   "outputs": [],
   "source": [
    "SRC = Field(tokenize=tokenize,\n",
    "            init_token = '<sos>', \n",
    "            eos_token = '<eos>', \n",
    "            lower = True)\n",
    "\n",
    "TRG = Field(tokenize=tokenize,\n",
    "            init_token = '<sos>', \n",
    "            eos_token = '<eos>', \n",
    "            lower = True)\n",
    "\n",
    "dataset = torchtext.legacy.data.TabularDataset(\n",
    "    path=path_do_data,\n",
    "    format='tsv',\n",
    "    fields=[('trg', TRG), ('src', SRC)]\n",
    ")"
   ]
  },
  {
   "cell_type": "code",
   "execution_count": 6,
   "metadata": {},
   "outputs": [],
   "source": [
    "train_data, valid_data, test_data = dataset.split(split_ratio=[0.8, 0.15, 0.05])"
   ]
  },
  {
   "cell_type": "code",
   "execution_count": 7,
   "metadata": {},
   "outputs": [
    {
     "name": "stdout",
     "output_type": "stream",
     "text": [
      "Number of training examples: 40000\n",
      "Number of validation examples: 2500\n",
      "Number of testing examples: 7500\n"
     ]
    }
   ],
   "source": [
    "print(f\"Number of training examples: {len(train_data.examples)}\")\n",
    "print(f\"Number of validation examples: {len(valid_data.examples)}\")\n",
    "print(f\"Number of testing examples: {len(test_data.examples)}\")"
   ]
  },
  {
   "cell_type": "code",
   "execution_count": 8,
   "metadata": {},
   "outputs": [],
   "source": [
    "SRC.build_vocab(train_data, min_freq = 3)\n",
    "TRG.build_vocab(train_data, min_freq = 3)"
   ]
  },
  {
   "cell_type": "code",
   "execution_count": 9,
   "metadata": {},
   "outputs": [
    {
     "name": "stdout",
     "output_type": "stream",
     "text": [
      "Unique tokens in source (ru) vocabulary: 9225\n",
      "Unique tokens in target (en) vocabulary: 6704\n"
     ]
    }
   ],
   "source": [
    "print(f\"Unique tokens in source (ru) vocabulary: {len(SRC.vocab)}\")\n",
    "print(f\"Unique tokens in target (en) vocabulary: {len(TRG.vocab)}\")"
   ]
  },
  {
   "cell_type": "markdown",
   "metadata": {},
   "source": [
    "Here are tokens from original (RU) corpus:"
   ]
  },
  {
   "cell_type": "code",
   "execution_count": 10,
   "metadata": {},
   "outputs": [
    {
     "data": {
      "text/plain": [
       "['<unk>',\n",
       " 'горячий',\n",
       " 'спутникового',\n",
       " 'интернациональные',\n",
       " 'antica',\n",
       " 'azul',\n",
       " 'motel',\n",
       " 'уютное',\n",
       " 'душа',\n",
       " 'тривандрум']"
      ]
     },
     "execution_count": 10,
     "metadata": {},
     "output_type": "execute_result"
    }
   ],
   "source": [
    "SRC.vocab.itos[::1000]"
   ]
  },
  {
   "cell_type": "markdown",
   "metadata": {},
   "source": [
    "And from target (EN) corpus:"
   ]
  },
  {
   "cell_type": "code",
   "execution_count": 11,
   "metadata": {},
   "outputs": [
    {
     "data": {
      "text/plain": [
       "['<unk>', 'ngurah', 'isola', 'eiffel', 'marsala', 'soyembika', 'map']"
      ]
     },
     "execution_count": 11,
     "metadata": {},
     "output_type": "execute_result"
    }
   ],
   "source": [
    "TRG.vocab.itos[::1000]"
   ]
  },
  {
   "cell_type": "markdown",
   "metadata": {},
   "source": [
    "And here is example from train dataset:"
   ]
  },
  {
   "cell_type": "code",
   "execution_count": 12,
   "metadata": {},
   "outputs": [
    {
     "name": "stdout",
     "output_type": "stream",
     "text": [
      "{'trg': ['grocery', 'store', 'is', '1', '-', 'minute', 'walk', 'from', 'the', 'apartment', '.'], 'src': ['продуктовый', 'магазин', 'находится', 'в', '1', 'минуте', 'ходьбы', 'от', 'апартаментов', '.']}\n"
     ]
    }
   ],
   "source": [
    "print(vars(train_data.examples[9]))"
   ]
  },
  {
   "cell_type": "markdown",
   "metadata": {},
   "source": [
    "Let's check the length distributions:"
   ]
  },
  {
   "cell_type": "code",
   "execution_count": 13,
   "metadata": {},
   "outputs": [
    {
     "name": "stdout",
     "output_type": "stream",
     "text": [
      "Length distribution in Train data\n"
     ]
    },
    {
     "data": {
      "image/png": "[encoded data removed]",
      "text/plain": [
       "<Figure size 576x288 with 2 Axes>"
      ]
     },
     "metadata": {
      "needs_background": "light"
     },
     "output_type": "display_data"
    }
   ],
   "source": [
    "src_length = map(len, [vars(x)['src'] for x in train_data.examples])\n",
    "trg_length = map(len, [vars(x)['trg'] for x in train_data.examples])\n",
    "\n",
    "print('Length distribution in Train data')\n",
    "plt.figure(figsize=[8, 4])\n",
    "plt.subplot(1, 2, 1)\n",
    "plt.title(\"source length\")\n",
    "plt.hist(list(src_length), bins=20);\n",
    "\n",
    "plt.subplot(1, 2, 2)\n",
    "plt.title(\"translation length\")\n",
    "plt.hist(list(trg_length), bins=20);"
   ]
  },
  {
   "cell_type": "code",
   "execution_count": 14,
   "metadata": {},
   "outputs": [
    {
     "name": "stdout",
     "output_type": "stream",
     "text": [
      "Length distribution in Test data\n"
     ]
    },
    {
     "data": {
      "image/png": "[encoded data removed]",
      "text/plain": [
       "<Figure size 576x288 with 2 Axes>"
      ]
     },
     "metadata": {
      "needs_background": "light"
     },
     "output_type": "display_data"
    }
   ],
   "source": [
    "src_length = map(len, [vars(x)['src'] for x in test_data.examples])\n",
    "trg_length = map(len, [vars(x)['trg'] for x in test_data.examples])\n",
    "\n",
    "print('Length distribution in Test data')\n",
    "plt.figure(figsize=[8, 4])\n",
    "plt.subplot(1, 2, 1)\n",
    "plt.title(\"source length\")\n",
    "plt.hist(list(src_length), bins=20);\n",
    "\n",
    "plt.subplot(1, 2, 2)\n",
    "plt.title(\"translation length\")\n",
    "plt.hist(list(trg_length), bins=20);"
   ]
  },
  {
   "cell_type": "markdown",
   "metadata": {},
   "source": [
    "### Model side\n",
    "__Here comes simple pipeline of NMT model learning. It almost copies the week03 practice__"
   ]
  },
  {
   "cell_type": "code",
   "execution_count": 15,
   "metadata": {},
   "outputs": [],
   "source": [
    "device = torch.device('cuda' if torch.cuda.is_available() else 'cpu')"
   ]
  },
  {
   "cell_type": "code",
   "execution_count": 16,
   "metadata": {},
   "outputs": [
    {
     "data": {
      "text/plain": [
       "device(type='cuda')"
      ]
     },
     "execution_count": 16,
     "metadata": {},
     "output_type": "execute_result"
    }
   ],
   "source": [
    "device"
   ]
  },
  {
   "cell_type": "code",
   "execution_count": 17,
   "metadata": {},
   "outputs": [],
   "source": [
    "def _len_sort_key(x):\n",
    "    return len(x.src)\n",
    "\n",
    "# BATCH_SIZE = 128\n",
    "BATCH_SIZE = 64  # изменено, тк были проблемы с памятью на gpu\n",
    "\n",
    "train_iterator, valid_iterator, test_iterator = BucketIterator.splits(\n",
    "    (train_data, valid_data, test_data), \n",
    "    batch_size = BATCH_SIZE, \n",
    "    device = device,\n",
    "    sort_key=_len_sort_key\n",
    ")"
   ]
  },
  {
   "cell_type": "code",
   "execution_count": 18,
   "metadata": {},
   "outputs": [
    {
     "name": "stdout",
     "output_type": "stream",
     "text": [
      "\n",
      "[torchtext.legacy.data.batch.Batch of size 64]\n",
      "\t[.trg]:[torch.cuda.LongTensor of size 66x64 (GPU 0)]\n",
      "\t[.src]:[torch.cuda.LongTensor of size 68x64 (GPU 0)]\n",
      "torch.Size([68, 64]) torch.Size([66, 64])\n"
     ]
    }
   ],
   "source": [
    "for x in train_iterator:\n",
    "    break\n",
    "print(x)\n",
    "print(x.src.shape, x.trg.shape)"
   ]
  },
  {
   "cell_type": "code",
   "execution_count": 19,
   "metadata": {},
   "outputs": [],
   "source": [
    "import my_network\n",
    "Encoder = my_network.Encoder\n",
    "Decoder = my_network.Decoder\n",
    "Seq2Seq = my_network.Seq2Seq"
   ]
  },
  {
   "cell_type": "code",
   "execution_count": 20,
   "metadata": {},
   "outputs": [],
   "source": [
    "INPUT_DIM = len(SRC.vocab)\n",
    "OUTPUT_DIM = len(TRG.vocab)\n",
    "ENC_EMB_DIM = 256\n",
    "DEC_EMB_DIM = 256\n",
    "HID_DIM = 512\n",
    "N_LAYERS = 2\n",
    "ENC_DROPOUT = 0.5\n",
    "DEC_DROPOUT = 0.5\n",
    "\n",
    "enc = Encoder(INPUT_DIM, ENC_EMB_DIM, HID_DIM, N_LAYERS, ENC_DROPOUT)\n",
    "dec = Decoder(OUTPUT_DIM, DEC_EMB_DIM, HID_DIM, N_LAYERS, DEC_DROPOUT)\n",
    "\n",
    "# dont forget to put the model to the right device\n",
    "model = Seq2Seq(enc, dec, device).to(device)"
   ]
  },
  {
   "cell_type": "code",
   "execution_count": 21,
   "metadata": {},
   "outputs": [
    {
     "data": {
      "text/plain": [
       "Seq2Seq(\n",
       "  (encoder): Encoder(\n",
       "    (embedding): Embedding(9225, 256)\n",
       "    (rnn): LSTM(256, 512, num_layers=2, dropout=0.5)\n",
       "    (dropout): Dropout(p=0.5, inplace=False)\n",
       "  )\n",
       "  (decoder): Decoder(\n",
       "    (embedding): Embedding(6704, 256)\n",
       "    (rnn): LSTM(256, 512, num_layers=2, dropout=0.5)\n",
       "    (out): Linear(in_features=512, out_features=6704, bias=True)\n",
       "    (dropout): Dropout(p=0.5, inplace=False)\n",
       "  )\n",
       ")"
      ]
     },
     "execution_count": 21,
     "metadata": {},
     "output_type": "execute_result"
    }
   ],
   "source": [
    "def init_weights(m):\n",
    "    # <YOUR CODE HERE>\n",
    "    for name, param in m.named_parameters():\n",
    "        nn.init.uniform_(param, -0.08, 0.08)\n",
    "        \n",
    "model.apply(init_weights)"
   ]
  },
  {
   "cell_type": "code",
   "execution_count": 22,
   "metadata": {},
   "outputs": [],
   "source": [
    "def count_parameters(model):\n",
    "    return sum(p.numel() for p in model.parameters() if p.requires_grad)"
   ]
  },
  {
   "cell_type": "code",
   "execution_count": 23,
   "metadata": {},
   "outputs": [
    {
     "name": "stdout",
     "output_type": "stream",
     "text": [
      "The model has 14,873,392 trainable parameters\n"
     ]
    }
   ],
   "source": [
    "print(f'The model has {count_parameters(model):,} trainable parameters')"
   ]
  },
  {
   "cell_type": "code",
   "execution_count": 23,
   "metadata": {},
   "outputs": [],
   "source": [
    "PAD_IDX = TRG.vocab.stoi['<pad>']\n",
    "optimizer = optim.Adam(model.parameters())\n",
    "criterion = nn.CrossEntropyLoss(ignore_index = PAD_IDX)"
   ]
  },
  {
   "cell_type": "code",
   "execution_count": 24,
   "metadata": {},
   "outputs": [],
   "source": [
    "def train(model, iterator, optimizer, criterion, clip, train_history=None, valid_history=None, use_plot=True):\n",
    "    model.train()\n",
    "    \n",
    "    epoch_loss = 0\n",
    "    history = []\n",
    "    for i, batch in enumerate(iterator):\n",
    "        \n",
    "        src = batch.src\n",
    "        trg = batch.trg\n",
    "        \n",
    "        optimizer.zero_grad()\n",
    "        \n",
    "        output = model(src, trg)\n",
    "        \n",
    "        #trg = [trg sent len, batch size]\n",
    "        #output = [trg sent len, batch size, output dim]\n",
    "        \n",
    "        output = output[1:].view(-1, output.shape[-1])\n",
    "        trg = trg[1:].view(-1)\n",
    "        \n",
    "        #trg = [(trg sent len - 1) * batch size]\n",
    "        #output = [(trg sent len - 1) * batch size, output dim]\n",
    "        \n",
    "        loss = criterion(output, trg)\n",
    "        \n",
    "        loss.backward()\n",
    "        \n",
    "        # Let's clip the gradient\n",
    "        torch.nn.utils.clip_grad_norm_(model.parameters(), clip)\n",
    "        \n",
    "        optimizer.step()\n",
    "        \n",
    "        epoch_loss += loss.item()\n",
    "        \n",
    "        history.append(loss.cpu().data.numpy())\n",
    "        if use_plot and (i + 1) % 10 == 0:\n",
    "            fig, ax = plt.subplots(nrows=1, ncols=2, figsize=(12, 8))\n",
    "\n",
    "            clear_output(True)\n",
    "            ax[0].plot(history, label='train loss')\n",
    "            ax[0].set_xlabel('Batch')\n",
    "            ax[0].set_title('Train loss')\n",
    "            if train_history is not None:\n",
    "                ax[1].plot(train_history, label='general train history')\n",
    "                ax[1].set_xlabel('Epoch')\n",
    "            if valid_history is not None:\n",
    "                ax[1].plot(valid_history, label='general valid history')\n",
    "            plt.legend()\n",
    "            \n",
    "            plt.show()\n",
    "\n",
    "        \n",
    "    return epoch_loss / len(iterator)"
   ]
  },
  {
   "cell_type": "code",
   "execution_count": 25,
   "metadata": {},
   "outputs": [],
   "source": [
    "def evaluate(model, iterator, criterion):\n",
    "    \n",
    "    model.eval()\n",
    "    \n",
    "    epoch_loss = 0\n",
    "    \n",
    "    history = []\n",
    "    \n",
    "    with torch.no_grad():\n",
    "    \n",
    "        for i, batch in enumerate(iterator):\n",
    "\n",
    "            src = batch.src\n",
    "            trg = batch.trg\n",
    "\n",
    "            output = model(src, trg, 0) #turn off teacher forcing\n",
    "\n",
    "            #trg = [trg sent len, batch size]\n",
    "            #output = [trg sent len, batch size, output dim]\n",
    "\n",
    "            output = output[1:].view(-1, output.shape[-1])\n",
    "            trg = trg[1:].view(-1)\n",
    "\n",
    "            #trg = [(trg sent len - 1) * batch size]\n",
    "            #output = [(trg sent len - 1) * batch size, output dim]\n",
    "\n",
    "            loss = criterion(output, trg)\n",
    "            \n",
    "            epoch_loss += loss.item()\n",
    "        \n",
    "    return epoch_loss / len(iterator)"
   ]
  },
  {
   "cell_type": "code",
   "execution_count": 26,
   "metadata": {},
   "outputs": [],
   "source": [
    "def epoch_time(start_time, end_time):\n",
    "    elapsed_time = end_time - start_time\n",
    "    elapsed_mins = int(elapsed_time / 60)\n",
    "    elapsed_secs = int(elapsed_time - (elapsed_mins * 60))\n",
    "    return elapsed_mins, elapsed_secs"
   ]
  },
  {
   "cell_type": "code",
   "execution_count": 27,
   "metadata": {},
   "outputs": [],
   "source": [
    "train_history = []\n",
    "valid_history = []\n",
    "\n",
    "N_EPOCHS = 10\n",
    "CLIP = 1\n",
    "\n",
    "best_valid_loss = float('inf')"
   ]
  },
  {
   "cell_type": "code",
   "execution_count": 28,
   "metadata": {
    "tags": []
   },
   "outputs": [
    {
     "data": {
      "image/png": "[encoded data removed]",
      "text/plain": [
       "<Figure size 864x576 with 2 Axes>"
      ]
     },
     "metadata": {
      "needs_background": "light"
     },
     "output_type": "display_data"
    },
    {
     "name": "stdout",
     "output_type": "stream",
     "text": [
      "Epoch: 10 | Time: 1m 19s\n",
      "\tTrain Loss: 2.714 | Train PPL:  15.096\n",
      "\t Val. Loss: 4.604 |  Val. PPL:  99.864\n"
     ]
    }
   ],
   "source": [
    "for epoch in range(N_EPOCHS):\n",
    "    \n",
    "    start_time = time.time()\n",
    "    \n",
    "    train_loss = train(model, train_iterator, optimizer, criterion, CLIP, train_history, valid_history)\n",
    "    valid_loss = evaluate(model, valid_iterator, criterion)\n",
    "    \n",
    "    end_time = time.time()\n",
    "    \n",
    "    epoch_mins, epoch_secs = epoch_time(start_time, end_time)\n",
    "    \n",
    "    if valid_loss < best_valid_loss:\n",
    "        best_valid_loss = valid_loss\n",
    "        torch.save(model.state_dict(), 'tut1-model.pt')\n",
    "    \n",
    "    train_history.append(train_loss)\n",
    "    valid_history.append(valid_loss)\n",
    "    print(f'Epoch: {epoch+1:02} | Time: {epoch_mins}m {epoch_secs}s')\n",
    "    print(f'\\tTrain Loss: {train_loss:.3f} | Train PPL: {math.exp(train_loss):7.3f}')\n",
    "    print(f'\\t Val. Loss: {valid_loss:.3f} |  Val. PPL: {math.exp(valid_loss):7.3f}')"
   ]
  },
  {
   "cell_type": "markdown",
   "metadata": {},
   "source": [
    "__Let's take a look at our network quality__:"
   ]
  },
  {
   "cell_type": "code",
   "execution_count": 29,
   "metadata": {
    "collapsed": true,
    "jupyter": {
     "outputs_hidden": true
    },
    "tags": []
   },
   "outputs": [
    {
     "ename": "NameError",
     "evalue": "name 'utils' is not defined",
     "output_type": "error",
     "traceback": [
      "\u001b[0;31m---------------------------------------------------------------------------\u001b[0m",
      "\u001b[0;31mNameError\u001b[0m                                 Traceback (most recent call last)",
      "\u001b[0;32m<ipython-input-29-f9dab4e8f560>\u001b[0m in \u001b[0;36m<module>\u001b[0;34m\u001b[0m\n\u001b[0;32m----> 1\u001b[0;31m \u001b[0;32mdel\u001b[0m \u001b[0mutils\u001b[0m\u001b[0;34m\u001b[0m\u001b[0;34m\u001b[0m\u001b[0m\n\u001b[0m",
      "\u001b[0;31mNameError\u001b[0m: name 'utils' is not defined"
     ]
    }
   ],
   "source": [
    "del utils"
   ]
  },
  {
   "cell_type": "code",
   "execution_count": 30,
   "metadata": {},
   "outputs": [],
   "source": [
    "import utils\n",
    "import imp\n",
    "imp.reload(utils)\n",
    "generate_translation = utils.generate_translation\n",
    "remove_tech_tokens = utils.remove_tech_tokens\n",
    "get_text = utils.get_text\n",
    "flatten = utils.flatten"
   ]
  },
  {
   "cell_type": "code",
   "execution_count": 31,
   "metadata": {},
   "outputs": [],
   "source": [
    "batch = next(iter(test_iterator))"
   ]
  },
  {
   "cell_type": "code",
   "execution_count": 32,
   "metadata": {},
   "outputs": [
    {
     "name": "stdout",
     "output_type": "stream",
     "text": [
      "Original: you will find a 24 - hour front desk at the property .\n",
      "Generated: there is a 24 - hour front desk and a tour desk .\n",
      "\n",
      "Original: bed linen is available .\n",
      "Generated: en suite bathroom .\n",
      "\n"
     ]
    }
   ],
   "source": [
    "for idx in [1,2]:\n",
    "    src = batch.src[:, idx:idx+1]\n",
    "    trg = batch.trg[:, idx:idx+1]\n",
    "    generate_translation(src, trg, model, TRG.vocab)"
   ]
  },
  {
   "cell_type": "code",
   "execution_count": 33,
   "metadata": {},
   "outputs": [],
   "source": [
    "from nltk.translate.bleu_score import corpus_bleu\n",
    "\n",
    "#     \"\"\" Estimates corpora-level BLEU score of model's translations given inp and reference out \"\"\"\n",
    "#     translations, _ = model.translate_lines(inp_lines, **flags)\n",
    "#     # Note: if you experience out-of-memory error, split input lines into batches and translate separately\n",
    "#     return corpus_bleu([[ref] for ref in out_lines], translations) * 100"
   ]
  },
  {
   "cell_type": "code",
   "execution_count": 34,
   "metadata": {},
   "outputs": [],
   "source": [
    "import tqdm"
   ]
  },
  {
   "cell_type": "code",
   "execution_count": 35,
   "metadata": {},
   "outputs": [
    {
     "name": "stderr",
     "output_type": "stream",
     "text": [
      "118it [00:02, 43.54it/s]\n"
     ]
    }
   ],
   "source": [
    "original_text = []\n",
    "generated_text = []\n",
    "model.eval()\n",
    "with torch.no_grad():\n",
    "\n",
    "    for i, batch in tqdm.tqdm(enumerate(test_iterator)):\n",
    "\n",
    "        src = batch.src\n",
    "        trg = batch.trg\n",
    "\n",
    "        output = model(src, trg, 0) #turn off teacher forcing\n",
    "\n",
    "        #trg = [trg sent len, batch size]\n",
    "        #output = [trg sent len, batch size, output dim]\n",
    "\n",
    "        output = output.argmax(dim=-1)\n",
    "        \n",
    "        original_text.extend([get_text(x, TRG.vocab) for x in trg.cpu().numpy().T])\n",
    "        generated_text.extend([get_text(x, TRG.vocab) for x in output[1:].detach().cpu().numpy().T])\n",
    "\n",
    "# original_text = flatten(original_text)\n",
    "# generated_text = flatten(generated_text)"
   ]
  },
  {
   "cell_type": "code",
   "execution_count": 36,
   "metadata": {},
   "outputs": [
    {
     "data": {
      "text/plain": [
       "16.049145938601328"
      ]
     },
     "execution_count": 36,
     "metadata": {},
     "output_type": "execute_result"
    }
   ],
   "source": [
    "corpus_bleu([[text] for text in original_text], generated_text) * 100"
   ]
  },
  {
   "cell_type": "markdown",
   "metadata": {},
   "source": [
    "Baseline solution BLEU score is quite low. Try to achieve at least __18__ BLEU on the test set. \n",
    "The checkpoints are:\n",
    "\n",
    "* __18__ - minimal score to submit the homework, 30% of points\n",
    "\n",
    "* __20__ - good score, 70% of points\n",
    "\n",
    "* __25__ - excellent score, 100% of points"
   ]
  },
  {
   "cell_type": "markdown",
   "metadata": {},
   "source": [
    "## Эксперименты"
   ]
  },
  {
   "cell_type": "markdown",
   "metadata": {},
   "source": [
    "Во многом источником послужил замечательный туториал https://github.com/bentrevett/pytorch-seq2seq\n",
    "\n",
    "Вначале зафиксируем random seed для воспроизводимости."
   ]
  },
  {
   "cell_type": "code",
   "execution_count": 4,
   "metadata": {},
   "outputs": [],
   "source": [
    "import numpy as np"
   ]
  },
  {
   "cell_type": "code",
   "execution_count": 5,
   "metadata": {},
   "outputs": [],
   "source": [
    "SEED = 42\n",
    "\n",
    "random.seed(SEED)\n",
    "np.random.seed(SEED)\n",
    "torch.manual_seed(SEED)\n",
    "torch.cuda.manual_seed(SEED)\n",
    "torch.backends.cudnn.deterministic = True"
   ]
  },
  {
   "cell_type": "markdown",
   "metadata": {},
   "source": [
    "### Экспримент 1"
   ]
  },
  {
   "cell_type": "markdown",
   "metadata": {},
   "source": [
    "Возьмем за основу наш бейзлайн и сделаем следующие изменения:\n",
    "1. В качестве токенайзера будем использовать вместо WordPunctTokenizer токентайзер из spacy для русского и английского языка, чтобы правильнее разбивать текст на токены с учетом специфики языка.\n",
    "2. Вместо LSTM будем использовать GRU\n",
    "3. Самое главное: в декодере будем использовать attention. Это должно позволить улучшить качетсво перевода, т.к. при генерации каждого следующего токена мы будем учитывать, какая информация из входной последовательности на данном шаге наиболее важна."
   ]
  },
  {
   "cell_type": "code",
   "execution_count": 24,
   "metadata": {},
   "outputs": [],
   "source": [
    "from rnn_and_attention.runner import prepare_data, create_model, train_model, predict_model\n",
    "from split_data import get_iterators\n",
    "from metrics import calc_metrics\n",
    "\n",
    "%load_ext autoreload\n",
    "%autoreload 2"
   ]
  },
  {
   "cell_type": "code",
   "execution_count": 7,
   "metadata": {},
   "outputs": [],
   "source": [
    "train_data, valid_data, test_data, src_field, trg_field = prepare_data()"
   ]
  },
  {
   "cell_type": "code",
   "execution_count": 8,
   "metadata": {},
   "outputs": [],
   "source": [
    "train_iterator, valid_iterator, test_iterator = get_iterators(train_data, valid_data, test_data,\n",
    "                                                              device='cuda', batch_size=64)"
   ]
  },
  {
   "cell_type": "code",
   "execution_count": 9,
   "metadata": {},
   "outputs": [],
   "source": [
    "rnn_attn_model = create_model(len(src_field.vocab), len(trg_field.vocab))"
   ]
  },
  {
   "cell_type": "code",
   "execution_count": 10,
   "metadata": {},
   "outputs": [
    {
     "data": {
      "text/plain": [
       "Seq2Seq(\n",
       "  (encoder): Encoder(\n",
       "    (embedding): Embedding(9324, 256)\n",
       "    (rnn): GRU(256, 512, bidirectional=True)\n",
       "    (fc): Linear(in_features=1024, out_features=512, bias=True)\n",
       "    (dropout): Dropout(p=0.5, inplace=False)\n",
       "  )\n",
       "  (decoder): Decoder(\n",
       "    (attention): Attention(\n",
       "      (attn): Linear(in_features=1536, out_features=512, bias=True)\n",
       "      (v): Linear(in_features=512, out_features=1, bias=False)\n",
       "    )\n",
       "    (embedding): Embedding(6803, 256)\n",
       "    (rnn): GRU(1280, 512)\n",
       "    (fc_out): Linear(in_features=1792, out_features=6803, bias=True)\n",
       "    (dropout): Dropout(p=0.5, inplace=False)\n",
       "  )\n",
       ")"
      ]
     },
     "execution_count": 10,
     "metadata": {},
     "output_type": "execute_result"
    }
   ],
   "source": [
    "rnn_attn_model"
   ]
  },
  {
   "cell_type": "code",
   "execution_count": 12,
   "metadata": {},
   "outputs": [
    {
     "name": "stdout",
     "output_type": "stream",
     "text": [
      "Epoch: 01 | Time: 1m 54s\n",
      "\tTrain Loss: 3.967 | Train PPL:  52.823\n",
      "\t Val. Loss: 4.584 |  Val. PPL:  97.902\n",
      "Epoch: 02 | Time: 1m 55s\n",
      "\tTrain Loss: 2.970 | Train PPL:  19.484\n",
      "\t Val. Loss: 4.272 |  Val. PPL:  71.669\n",
      "Epoch: 03 | Time: 1m 56s\n",
      "\tTrain Loss: 2.591 | Train PPL:  13.342\n",
      "\t Val. Loss: 4.114 |  Val. PPL:  61.214\n",
      "Epoch: 04 | Time: 1m 56s\n",
      "\tTrain Loss: 2.322 | Train PPL:  10.193\n",
      "\t Val. Loss: 4.204 |  Val. PPL:  66.921\n",
      "Epoch: 05 | Time: 1m 55s\n",
      "\tTrain Loss: 2.131 | Train PPL:   8.426\n",
      "\t Val. Loss: 4.173 |  Val. PPL:  64.936\n",
      "Epoch: 06 | Time: 1m 55s\n",
      "\tTrain Loss: 1.985 | Train PPL:   7.278\n",
      "\t Val. Loss: 4.170 |  Val. PPL:  64.739\n",
      "Epoch: 07 | Time: 1m 56s\n",
      "\tTrain Loss: 1.852 | Train PPL:   6.375\n",
      "\t Val. Loss: 4.310 |  Val. PPL:  74.407\n",
      "Epoch: 08 | Time: 1m 55s\n",
      "\tTrain Loss: 1.759 | Train PPL:   5.809\n",
      "\t Val. Loss: 4.349 |  Val. PPL:  77.402\n",
      "Epoch: 09 | Time: 1m 56s\n",
      "\tTrain Loss: 1.678 | Train PPL:   5.357\n",
      "\t Val. Loss: 4.356 |  Val. PPL:  77.908\n",
      "Epoch: 10 | Time: 1m 55s\n",
      "\tTrain Loss: 1.604 | Train PPL:   4.972\n",
      "\t Val. Loss: 4.401 |  Val. PPL:  81.570\n"
     ]
    },
    {
     "data": {
      "image/png": "[encoded data removed]",
      "text/plain": [
       "<Figure size 864x576 with 2 Axes>"
      ]
     },
     "metadata": {
      "needs_background": "light"
     },
     "output_type": "display_data"
    }
   ],
   "source": [
    "train_model(rnn_attn_model, train_iterator, valid_iterator, trg_field, n_epochs=10)"
   ]
  },
  {
   "cell_type": "code",
   "execution_count": 17,
   "metadata": {},
   "outputs": [
    {
     "name": "stderr",
     "output_type": "stream",
     "text": [
      "118it [00:04, 28.23it/s]\n"
     ]
    },
    {
     "name": "stdout",
     "output_type": "stream",
     "text": [
      "elapsed: 4.181312799453735\n",
      "time for batch with size 32 = 0.017717427116329388 s\n",
      "bleu: 28.203460942319143\n",
      "\n",
      "best 3 translations:\n",
      "\n",
      "\toriginal: there is a 24 - hour front desk at the property .\n",
      "\tgenerated: there is a 24 - hour front desk at the property .\n",
      "\tscore = 100.0\n",
      "\n",
      "\toriginal: the property offers free parking .\n",
      "\tgenerated: the property offers free parking .\n",
      "\tscore = 100.0\n",
      "\n",
      "\toriginal: you will find a kettle in the room .\n",
      "\tgenerated: you will find a kettle in the room .\n",
      "\tscore = 100.0\n",
      "\n",
      "worst 3 translations:\n",
      "\n",
      "\toriginal: home to one of the first art museums in israel , country also houses the archaeological centre .\n",
      "\tgenerated: .\n",
      "\tscore = 7.542270970394191e-237\n",
      "\n",
      "\toriginal: the\n",
      "\tgenerated: guest house offers accommodation in .\n",
      "\tscore = 0\n",
      "\n",
      "\toriginal: bikes can be rented on site .\n",
      "\tgenerated: bike hire is available at the property and the property is available for rent\n",
      "\tscore = 0\n",
      "\n"
     ]
    }
   ],
   "source": [
    "calc_metrics(rnn_attn_model, predict_model, trg_field, test_iterator)"
   ]
  },
  {
   "cell_type": "markdown",
   "metadata": {},
   "source": [
    "И действительно, введение attention позволило сходу сильно увеличить качество перевода и побить порог в 25 по BLEU.\n",
    "\n",
    "Интересно, что уже после 3-й эпохи наступает переобучение."
   ]
  },
  {
   "cell_type": "markdown",
   "metadata": {},
   "source": [
    "### Эксперимент 2\n",
    "\n",
    "Теперь проверим следующую идею. В бейзлайне мы обучали эмбеддинги с нуля. Кажется, что если сразу инициализировать эмбеддинги в энкодере хорошими значениями, то можно улучшить качество перевода. В качестве эмбеддингов возьмем rubert от deeppavlov. Также при этом изменим инициализацию весов модели: раньше мы для всех весов брали просто семплы из равномерного распределения, теперь же эмбеддинги мы уже инициализировали, так что их будем пропускать. Также было испробовано 2 варианта:\n",
    "- замораживать слой эмбеддингов\n",
    "- дообучать этот слой\n",
    "\n",
    "Первый вариант показал плохие результаты, что и логично: мы не позволяем модели подстроится под нашу задачу."
   ]
  },
  {
   "cell_type": "code",
   "execution_count": 54,
   "metadata": {},
   "outputs": [],
   "source": [
    "from pretrained_embeddings.runner import prepare_data, create_model, train_model, predict_model, get_original_text, get_generated_text"
   ]
  },
  {
   "cell_type": "code",
   "execution_count": 55,
   "metadata": {},
   "outputs": [],
   "source": [
    "train_data, valid_data, test_data, src_field, trg_field = prepare_data()"
   ]
  },
  {
   "cell_type": "code",
   "execution_count": 56,
   "metadata": {},
   "outputs": [],
   "source": [
    "train_iterator, valid_iterator, test_iterator = get_iterators(train_data, valid_data, test_data,\n",
    "                                                              device='cuda', batch_size=64)"
   ]
  },
  {
   "cell_type": "code",
   "execution_count": 57,
   "metadata": {
    "tags": []
   },
   "outputs": [
    {
     "name": "stderr",
     "output_type": "stream",
     "text": [
      "Some weights of the model checkpoint at /home/a.gorlenko/nlp/lab2/rubert_cased_L-12_H-768_A-12_pt were not used when initializing BertModel: ['cls.predictions.transform.dense.bias', 'cls.predictions.bias', 'cls.seq_relationship.weight', 'cls.predictions.transform.LayerNorm.weight', 'cls.predictions.transform.LayerNorm.bias', 'cls.predictions.decoder.weight', 'cls.seq_relationship.bias', 'cls.predictions.transform.dense.weight']\n",
      "- This IS expected if you are initializing BertModel from the checkpoint of a model trained on another task or with another architecture (e.g. initializing a BertForSequenceClassification model from a BertForPreTraining model).\n",
      "- This IS NOT expected if you are initializing BertModel from the checkpoint of a model that you expect to be exactly identical (initializing a BertForSequenceClassification model from a BertForSequenceClassification model).\n"
     ]
    }
   ],
   "source": [
    "pretrained_model = create_model(len(src_field.vocab), len(trg_field.vocab), src_field)"
   ]
  },
  {
   "cell_type": "code",
   "execution_count": 58,
   "metadata": {},
   "outputs": [
    {
     "data": {
      "text/plain": [
       "Seq2Seq(\n",
       "  (encoder): Encoder(\n",
       "    (embedding): Embedding(9376, 768)\n",
       "    (rnn): LSTM(768, 512, num_layers=2, dropout=0.5)\n",
       "    (dropout): Dropout(p=0.5, inplace=False)\n",
       "  )\n",
       "  (decoder): Decoder(\n",
       "    (embedding): Embedding(6792, 256)\n",
       "    (rnn): LSTM(256, 512, num_layers=2, dropout=0.5)\n",
       "    (out): Linear(in_features=512, out_features=6792, bias=True)\n",
       "    (dropout): Dropout(p=0.5, inplace=False)\n",
       "  )\n",
       ")"
      ]
     },
     "execution_count": 58,
     "metadata": {},
     "output_type": "execute_result"
    }
   ],
   "source": [
    "pretrained_model"
   ]
  },
  {
   "cell_type": "code",
   "execution_count": 59,
   "metadata": {},
   "outputs": [
    {
     "name": "stdout",
     "output_type": "stream",
     "text": [
      "The model has 20,828,808 trainable parameters\n"
     ]
    }
   ],
   "source": [
    "print(f'The model has {count_parameters(pretrained_model):,} trainable parameters')"
   ]
  },
  {
   "cell_type": "code",
   "execution_count": 60,
   "metadata": {},
   "outputs": [
    {
     "name": "stdout",
     "output_type": "stream",
     "text": [
      "Epoch: 01 | Time: 0m 57s\n",
      "\tTrain Loss: 4.957 | Train PPL: 142.208\n",
      "\t Val. Loss: 5.105 |  Val. PPL: 164.805\n",
      "Epoch: 02 | Time: 0m 57s\n",
      "\tTrain Loss: 3.906 | Train PPL:  49.711\n",
      "\t Val. Loss: 4.945 |  Val. PPL: 140.519\n",
      "Epoch: 03 | Time: 0m 59s\n",
      "\tTrain Loss: 3.507 | Train PPL:  33.332\n",
      "\t Val. Loss: 4.786 |  Val. PPL: 119.810\n",
      "Epoch: 04 | Time: 0m 58s\n",
      "\tTrain Loss: 3.277 | Train PPL:  26.496\n",
      "\t Val. Loss: 4.625 |  Val. PPL: 101.998\n",
      "Epoch: 05 | Time: 0m 58s\n",
      "\tTrain Loss: 3.095 | Train PPL:  22.086\n",
      "\t Val. Loss: 4.603 |  Val. PPL:  99.786\n",
      "Epoch: 06 | Time: 0m 57s\n",
      "\tTrain Loss: 2.931 | Train PPL:  18.751\n",
      "\t Val. Loss: 4.574 |  Val. PPL:  96.930\n",
      "Epoch: 07 | Time: 0m 57s\n",
      "\tTrain Loss: 2.825 | Train PPL:  16.855\n",
      "\t Val. Loss: 4.495 |  Val. PPL:  89.524\n",
      "Epoch: 08 | Time: 0m 57s\n",
      "\tTrain Loss: 2.727 | Train PPL:  15.291\n",
      "\t Val. Loss: 4.413 |  Val. PPL:  82.477\n",
      "Epoch: 09 | Time: 0m 57s\n",
      "\tTrain Loss: 2.623 | Train PPL:  13.783\n",
      "\t Val. Loss: 4.496 |  Val. PPL:  89.686\n",
      "Epoch: 10 | Time: 0m 57s\n",
      "\tTrain Loss: 2.555 | Train PPL:  12.874\n",
      "\t Val. Loss: 4.468 |  Val. PPL:  87.202\n"
     ]
    },
    {
     "data": {
      "image/png": "[encoded data removed]",
      "text/plain": [
       "<Figure size 864x576 with 2 Axes>"
      ]
     },
     "metadata": {
      "needs_background": "light"
     },
     "output_type": "display_data"
    },
    {
     "name": "stdout",
     "output_type": "stream",
     "text": [
      "| Test Loss: 4.427 | Test PPL:  83.697 |\n"
     ]
    }
   ],
   "source": [
    "train_model(pretrained_model, train_iterator, valid_iterator, test_iterator, trg_field, n_epochs=10)"
   ]
  },
  {
   "cell_type": "code",
   "execution_count": 61,
   "metadata": {},
   "outputs": [
    {
     "name": "stderr",
     "output_type": "stream",
     "text": [
      "118it [00:02, 50.63it/s]\n"
     ]
    },
    {
     "name": "stdout",
     "output_type": "stream",
     "text": [
      "elapsed: 2.3318159580230713\n",
      "time for batch with size 32 = 0.009880576093318098 s\n",
      "bleu: 18.125087813742898\n",
      "\n",
      "best 10 translations:\n",
      "\n",
      "\toriginal: the bathroom comes with a shower .\n",
      "\tgenerated: the bathroom comes with a shower .\n",
      "\tscore = 100.0\n",
      "\n",
      "\toriginal: towels are provided .\n",
      "\tgenerated: towels are provided .\n",
      "\tscore = 100.0\n",
      "\n",
      "\toriginal: free wifi access is available .\n",
      "\tgenerated: free wifi access is available .\n",
      "\tscore = 100.0\n",
      "\n",
      "\toriginal: rooms include a tv .\n",
      "\tgenerated: rooms include a tv .\n",
      "\tscore = 100.0\n",
      "\n",
      "\toriginal: some have a balcony .\n",
      "\tgenerated: some have a balcony .\n",
      "\tscore = 100.0\n",
      "\n",
      "\toriginal: guests can enjoy the on - site restaurant .\n",
      "\tgenerated: guests can enjoy the on - site restaurant .\n",
      "\tscore = 100.0\n",
      "\n",
      "\toriginal: free private parking is available .\n",
      "\tgenerated: free private parking is available .\n",
      "\tscore = 100.0\n",
      "\n",
      "\toriginal: private parking is available on site .\n",
      "\tgenerated: private parking is available on site .\n",
      "\tscore = 100.0\n",
      "\n",
      "\toriginal: the property also offers grocery delivery .\n",
      "\tgenerated: the property also offers grocery delivery .\n",
      "\tscore = 100.0\n",
      "\n",
      "\toriginal: you will find a shared kitchen at the property .\n",
      "\tgenerated: you will find a shared kitchen at the property .\n",
      "\tscore = 100.0\n",
      "\n",
      "worst 10 translations:\n",
      "\n",
      "\toriginal: entertainment is also provided at monte baia 's on - site disco .\n",
      "\tgenerated: .\n",
      "\tscore = 1.1193722615238579e-234\n",
      "\n",
      "\toriginal: the settlement and the are less than 8 miles from the property .\n",
      "\tgenerated: .\n",
      "\tscore = 1.1193722615238579e-234\n",
      "\n",
      "\toriginal: the nature protection area can be reached in 10 minutes by car .\n",
      "\tgenerated: .\n",
      "\tscore = 1.1193722615238579e-234\n",
      "\n",
      "\toriginal: the victorian mansion at los offers guests a unique and romantic experience .\n",
      "\tgenerated: .\n",
      "\tscore = 1.1193722615238579e-234\n",
      "\n",
      "\toriginal: the estate - race horses and is one of the largest stables in italy .\n",
      "\tgenerated: .\n",
      "\tscore = 1.51490562060539e-235\n",
      "\n",
      "\toriginal: the medieval manor house of hall is only 8 miles away , and is surrounded by gardens .\n",
      "\tgenerated: .\n",
      "\tscore = 7.542270970394191e-237\n",
      "\n",
      "\toriginal: is completely car - free and can only be reached by cable car from the centre of lech .\n",
      "\tgenerated: .\n",
      "\tscore = 2.774646429752207e-237\n",
      "\n",
      "\toriginal: spend an enjoyable holiday at , where you will be with the excellent cuisine - the 's restaurant is under the top 10 ( ) restaurants in germany .\n",
      "\tgenerated: .\n",
      "\tscore = 1.2596875302647955e-241\n",
      "\n",
      "\toriginal: outdoor seating options are available .\n",
      "\tgenerated: guests can enjoy the on - site\n",
      "\tscore = 0\n",
      "\n",
      "\toriginal: discounts are available at a private car park nearby\n",
      "\tgenerated: guests can rent free free parking .\n",
      "\tscore = 0\n",
      "\n"
     ]
    }
   ],
   "source": [
    "examples = calc_metrics(pretrained_model, predict_model, get_original_text, get_generated_text, trg_field, test_iterator, 10)"
   ]
  },
  {
   "cell_type": "markdown",
   "metadata": {},
   "source": [
    "Видим, что действительно удалось добиться улучшения качества, но, однако, не очень большого. В нашей шкале удалось только преодолеть самый первый порог 18. Изначально я ожидал большего. Видимо, это можно объяснить тем, что только лишь улучшение качества эмбеддингов не способно сильно улучшить изначально наивную модель.\n",
    "\n",
    "Также видим, что приблизительно с 7 эпохи пошло переобучение."
   ]
  },
  {
   "cell_type": "markdown",
   "metadata": {},
   "source": [
    "### Эксперимент 3\n",
    "\n",
    "В эксперименте 1 мы увидели, что attention в декодере позволяет сильно улучшить качество. Поэтому в данном эксперименте хочется развить эту идею. Причем даже отказавшись от рекуррентной сети. В данном эксперименте в энкодере будем использовать свертки для учета локального контекста и также будем учитывать позиции токенов с помощью эмбеддиногов позиций. В декодере также будем учитывать позиции токенов и локальный контекст с помощью сверток + как и ранее глобальный контекст с помощью attention."
   ]
  },
  {
   "cell_type": "code",
   "execution_count": 111,
   "metadata": {},
   "outputs": [],
   "source": [
    "from cnn.runner import prepare_data, create_model, train_model, predict_model, get_original_text, get_generated_text"
   ]
  },
  {
   "cell_type": "code",
   "execution_count": 32,
   "metadata": {},
   "outputs": [],
   "source": [
    "train_data, valid_data, test_data, src_field, trg_field = prepare_data()"
   ]
  },
  {
   "cell_type": "code",
   "execution_count": 33,
   "metadata": {},
   "outputs": [],
   "source": [
    "train_iterator, valid_iterator, test_iterator = get_iterators(train_data, valid_data, test_data,\n",
    "                                                              device='cuda', batch_size=64)"
   ]
  },
  {
   "cell_type": "code",
   "execution_count": 34,
   "metadata": {},
   "outputs": [],
   "source": [
    "cnn_model = create_model(len(src_field.vocab), len(trg_field.vocab), trg_field)"
   ]
  },
  {
   "cell_type": "code",
   "execution_count": 35,
   "metadata": {},
   "outputs": [
    {
     "data": {
      "text/plain": [
       "Seq2Seq(\n",
       "  (encoder): Encoder(\n",
       "    (tok_embedding): Embedding(9326, 256)\n",
       "    (pos_embedding): Embedding(100, 256)\n",
       "    (emb2hid): Linear(in_features=256, out_features=512, bias=True)\n",
       "    (hid2emb): Linear(in_features=512, out_features=256, bias=True)\n",
       "    (convs): ModuleList(\n",
       "      (0): Conv1d(512, 1024, kernel_size=(3,), stride=(1,), padding=(1,))\n",
       "      (1): Conv1d(512, 1024, kernel_size=(3,), stride=(1,), padding=(1,))\n",
       "      (2): Conv1d(512, 1024, kernel_size=(3,), stride=(1,), padding=(1,))\n",
       "      (3): Conv1d(512, 1024, kernel_size=(3,), stride=(1,), padding=(1,))\n",
       "      (4): Conv1d(512, 1024, kernel_size=(3,), stride=(1,), padding=(1,))\n",
       "      (5): Conv1d(512, 1024, kernel_size=(3,), stride=(1,), padding=(1,))\n",
       "      (6): Conv1d(512, 1024, kernel_size=(3,), stride=(1,), padding=(1,))\n",
       "      (7): Conv1d(512, 1024, kernel_size=(3,), stride=(1,), padding=(1,))\n",
       "      (8): Conv1d(512, 1024, kernel_size=(3,), stride=(1,), padding=(1,))\n",
       "      (9): Conv1d(512, 1024, kernel_size=(3,), stride=(1,), padding=(1,))\n",
       "    )\n",
       "    (dropout): Dropout(p=0.25, inplace=False)\n",
       "  )\n",
       "  (decoder): Decoder(\n",
       "    (tok_embedding): Embedding(6845, 256)\n",
       "    (pos_embedding): Embedding(100, 256)\n",
       "    (emb2hid): Linear(in_features=256, out_features=512, bias=True)\n",
       "    (hid2emb): Linear(in_features=512, out_features=256, bias=True)\n",
       "    (attn_hid2emb): Linear(in_features=512, out_features=256, bias=True)\n",
       "    (attn_emb2hid): Linear(in_features=256, out_features=512, bias=True)\n",
       "    (fc_out): Linear(in_features=256, out_features=6845, bias=True)\n",
       "    (convs): ModuleList(\n",
       "      (0): Conv1d(512, 1024, kernel_size=(3,), stride=(1,))\n",
       "      (1): Conv1d(512, 1024, kernel_size=(3,), stride=(1,))\n",
       "      (2): Conv1d(512, 1024, kernel_size=(3,), stride=(1,))\n",
       "      (3): Conv1d(512, 1024, kernel_size=(3,), stride=(1,))\n",
       "      (4): Conv1d(512, 1024, kernel_size=(3,), stride=(1,))\n",
       "      (5): Conv1d(512, 1024, kernel_size=(3,), stride=(1,))\n",
       "      (6): Conv1d(512, 1024, kernel_size=(3,), stride=(1,))\n",
       "      (7): Conv1d(512, 1024, kernel_size=(3,), stride=(1,))\n",
       "      (8): Conv1d(512, 1024, kernel_size=(3,), stride=(1,))\n",
       "      (9): Conv1d(512, 1024, kernel_size=(3,), stride=(1,))\n",
       "    )\n",
       "    (dropout): Dropout(p=0.25, inplace=False)\n",
       "  )\n",
       ")"
      ]
     },
     "execution_count": 35,
     "metadata": {},
     "output_type": "execute_result"
    }
   ],
   "source": [
    "cnn_model"
   ]
  },
  {
   "cell_type": "code",
   "execution_count": 37,
   "metadata": {},
   "outputs": [
    {
     "name": "stdout",
     "output_type": "stream",
     "text": [
      "Epoch: 01 | Time: 0m 53s\n",
      "\tTrain Loss: 3.881 | Train PPL:  48.495\n",
      "\t Val. Loss: 2.674 |  Val. PPL:  14.495\n",
      "Epoch: 02 | Time: 0m 54s\n",
      "\tTrain Loss: 2.653 | Train PPL:  14.197\n",
      "\t Val. Loss: 2.165 |  Val. PPL:   8.716\n",
      "Epoch: 03 | Time: 0m 55s\n",
      "\tTrain Loss: 2.212 | Train PPL:   9.138\n",
      "\t Val. Loss: 1.905 |  Val. PPL:   6.719\n",
      "Epoch: 04 | Time: 0m 55s\n",
      "\tTrain Loss: 1.940 | Train PPL:   6.962\n",
      "\t Val. Loss: 1.817 |  Val. PPL:   6.156\n",
      "Epoch: 05 | Time: 0m 55s\n",
      "\tTrain Loss: 1.755 | Train PPL:   5.781\n",
      "\t Val. Loss: 1.679 |  Val. PPL:   5.362\n",
      "Epoch: 06 | Time: 0m 55s\n",
      "\tTrain Loss: 1.618 | Train PPL:   5.044\n",
      "\t Val. Loss: 1.652 |  Val. PPL:   5.216\n",
      "Epoch: 07 | Time: 0m 55s\n",
      "\tTrain Loss: 1.518 | Train PPL:   4.562\n",
      "\t Val. Loss: 1.630 |  Val. PPL:   5.102\n",
      "Epoch: 08 | Time: 0m 55s\n",
      "\tTrain Loss: 1.436 | Train PPL:   4.204\n",
      "\t Val. Loss: 1.630 |  Val. PPL:   5.105\n",
      "Epoch: 09 | Time: 0m 55s\n",
      "\tTrain Loss: 1.375 | Train PPL:   3.954\n",
      "\t Val. Loss: 1.635 |  Val. PPL:   5.131\n",
      "Epoch: 10 | Time: 0m 55s\n",
      "\tTrain Loss: 1.319 | Train PPL:   3.740\n",
      "\t Val. Loss: 1.610 |  Val. PPL:   5.003\n"
     ]
    },
    {
     "data": {
      "image/png": "[encoded data removed]",
      "text/plain": [
       "<Figure size 864x576 with 2 Axes>"
      ]
     },
     "metadata": {
      "needs_background": "light"
     },
     "output_type": "display_data"
    },
    {
     "name": "stdout",
     "output_type": "stream",
     "text": [
      "| Test Loss: 1.536 | Test PPL:   4.646 |\n"
     ]
    }
   ],
   "source": [
    "train_model(cnn_model, train_iterator, valid_iterator, test_iterator, trg_field, n_epochs=10)"
   ]
  },
  {
   "cell_type": "code",
   "execution_count": 133,
   "metadata": {},
   "outputs": [
    {
     "name": "stderr",
     "output_type": "stream",
     "text": [
      "118it [00:02, 49.42it/s]\n"
     ]
    },
    {
     "name": "stdout",
     "output_type": "stream",
     "text": [
      "elapsed: 2.3891048431396484\n",
      "time for batch with size 32 = 0.010123325606523934 s\n",
      "bleu: 37.352602792279185\n",
      "\n",
      "best 10 translations:\n",
      "\n",
      "\toriginal: bathrobes are provided .\n",
      "\tgenerated: bathrobes are provided .\n",
      "\tscore = 100.0\n",
      "\n",
      "\toriginal: bed linen is featured .\n",
      "\tgenerated: bed linen is featured .\n",
      "\tscore = 100.0\n",
      "\n",
      "\toriginal: towels are featured .\n",
      "\tgenerated: towels are featured .\n",
      "\tscore = 100.0\n",
      "\n",
      "\toriginal: the property also offers packed lunches .\n",
      "\tgenerated: the property also offers packed lunches .\n",
      "\tscore = 100.0\n",
      "\n",
      "\toriginal: for your comfort , you will find bathrobes and slippers .\n",
      "\tgenerated: for your comfort , you will find bathrobes and slippers .\n",
      "\tscore = 100.0\n",
      "\n",
      "\toriginal: the property also offers grocery delivery .\n",
      "\tgenerated: the property also offers grocery delivery .\n",
      "\tscore = 100.0\n",
      "\n",
      "\toriginal: there is also a dining table .\n",
      "\tgenerated: there is also a dining table .\n",
      "\tscore = 100.0\n",
      "\n",
      "\toriginal: free wi - fi access is available .\n",
      "\tgenerated: free wi - fi access is available .\n",
      "\tscore = 100.0\n",
      "\n",
      "\toriginal: you will find a coffee machine in the room .\n",
      "\tgenerated: you will find a coffee machine in the room .\n",
      "\tscore = 100.0\n",
      "\n",
      "\toriginal: private parking is available on site .\n",
      "\tgenerated: private parking is available on site .\n",
      "\tscore = 100.0\n",
      "\n",
      "worst 10 translations:\n",
      "\n",
      "\toriginal: the staff offers cooking classes and aqua .\n",
      "\tgenerated: is can lessons and .\n",
      "\tscore = 7.951455490316087e-230\n",
      "\n",
      "\toriginal: it also features an innovative .\n",
      "\tgenerated: the also has a\n",
      "\tscore = 7.813508425061864e-230\n",
      "\n",
      "\toriginal: tickets for the europa park can be purchased from the .\n",
      "\tgenerated: a park , purchase made at .\n",
      "\tscore = 7.521821744402224e-230\n",
      "\n",
      "\toriginal: a desk is included for added convenience . an en suite bathroom is also included .\n",
      "\tgenerated: the en is equipped in a en .\n",
      "\tscore = 5.6358099924748865e-230\n",
      "\n",
      "\toriginal: the inn provides ticketing service for guests in need . other leisure facilities include a children 's playground and a sun terrace .\n",
      "\tgenerated: there property also a facilities and the as the .\n",
      "\tscore = 4.175110730725492e-230\n",
      "\n",
      "\toriginal: floating on the peaceful of alleppey , the offers tours from nehru racing point to .\n",
      "\tgenerated: the tours of . .\n",
      "\tscore = 1.9091188252955049e-230\n",
      "\n",
      "\toriginal: accommodation is self catering .\n",
      "\tgenerated: the are equipped conditioned and\n",
      "\tscore = 0\n",
      "\n",
      "\toriginal: ample lounging space is available .\n",
      "\tgenerated: there units seating has also in\n",
      "\tscore = 0\n",
      "\n",
      "\toriginal: the hotel also features two bars .\n",
      "\tgenerated: guests property has has a library for\n",
      "\tscore = 0\n",
      "\n",
      "\toriginal: horses are for hire in nearby . also sells for horses .\n",
      "\tgenerated: \n",
      "\tscore = 0\n",
      "\n"
     ]
    }
   ],
   "source": [
    "examples = calc_metrics(cnn_model, predict_model, get_original_text, get_generated_text, trg_field, test_iterator, 10)"
   ]
  },
  {
   "cell_type": "markdown",
   "metadata": {},
   "source": [
    "Внезапно получаем отличный результат (относительно предыдущих попыток) - BLEU 37.35! Кроме того, модель не начала заметно переобучаться и, возможно, при дальнейшем обучении еще бы немного прибавила."
   ]
  },
  {
   "cell_type": "markdown",
   "metadata": {},
   "source": [
    "### Эксперимент 4\n",
    "\n",
    "В четвертом эксперименте интересно попробовать трансформер. Мотивация тут такая: в предыдущем эксперименте мы отказались от рекуррентной сети и стали использовать локальный коонтекст (свертки) + глобальный (attention), а также позиции токенов. При этом получили отличный результат. Возможно, действительно attention is all we need, и трансформер позволит еще улучшить качество. Здесь уже не будет сверток, учитывающих локальный контекст, но зато будет multihead attention, что тоже можно считать аналогом различных фильтров."
   ]
  },
  {
   "cell_type": "code",
   "execution_count": 134,
   "metadata": {
    "tags": []
   },
   "outputs": [],
   "source": [
    "from transformer.runner import prepare_data, create_model, train_model, predict_model, get_original_text, get_generated_text"
   ]
  },
  {
   "cell_type": "code",
   "execution_count": 135,
   "metadata": {},
   "outputs": [],
   "source": [
    "train_data, valid_data, test_data, src_field, trg_field = prepare_data()"
   ]
  },
  {
   "cell_type": "code",
   "execution_count": 136,
   "metadata": {},
   "outputs": [],
   "source": [
    "train_iterator, valid_iterator, test_iterator = get_iterators(train_data, valid_data, test_data,\n",
    "                                                              device='cuda', batch_size=64)"
   ]
  },
  {
   "cell_type": "code",
   "execution_count": 138,
   "metadata": {},
   "outputs": [],
   "source": [
    "transformer_model = create_model(len(src_field.vocab), len(trg_field.vocab), src_field, trg_field)"
   ]
  },
  {
   "cell_type": "code",
   "execution_count": 139,
   "metadata": {},
   "outputs": [
    {
     "data": {
      "text/plain": [
       "Seq2Seq(\n",
       "  (encoder): Encoder(\n",
       "    (tok_embedding): Embedding(9326, 256)\n",
       "    (pos_embedding): Embedding(100, 256)\n",
       "    (layers): ModuleList(\n",
       "      (0): EncoderLayer(\n",
       "        (self_attn_layer_norm): LayerNorm((256,), eps=1e-05, elementwise_affine=True)\n",
       "        (ff_layer_norm): LayerNorm((256,), eps=1e-05, elementwise_affine=True)\n",
       "        (self_attention): MultiHeadAttentionLayer(\n",
       "          (fc_q): Linear(in_features=256, out_features=256, bias=True)\n",
       "          (fc_k): Linear(in_features=256, out_features=256, bias=True)\n",
       "          (fc_v): Linear(in_features=256, out_features=256, bias=True)\n",
       "          (fc_o): Linear(in_features=256, out_features=256, bias=True)\n",
       "          (dropout): Dropout(p=0.1, inplace=False)\n",
       "        )\n",
       "        (positionwise_feedforward): PositionwiseFeedforwardLayer(\n",
       "          (fc_1): Linear(in_features=256, out_features=512, bias=True)\n",
       "          (fc_2): Linear(in_features=512, out_features=256, bias=True)\n",
       "          (dropout): Dropout(p=0.1, inplace=False)\n",
       "        )\n",
       "        (dropout): Dropout(p=0.1, inplace=False)\n",
       "      )\n",
       "      (1): EncoderLayer(\n",
       "        (self_attn_layer_norm): LayerNorm((256,), eps=1e-05, elementwise_affine=True)\n",
       "        (ff_layer_norm): LayerNorm((256,), eps=1e-05, elementwise_affine=True)\n",
       "        (self_attention): MultiHeadAttentionLayer(\n",
       "          (fc_q): Linear(in_features=256, out_features=256, bias=True)\n",
       "          (fc_k): Linear(in_features=256, out_features=256, bias=True)\n",
       "          (fc_v): Linear(in_features=256, out_features=256, bias=True)\n",
       "          (fc_o): Linear(in_features=256, out_features=256, bias=True)\n",
       "          (dropout): Dropout(p=0.1, inplace=False)\n",
       "        )\n",
       "        (positionwise_feedforward): PositionwiseFeedforwardLayer(\n",
       "          (fc_1): Linear(in_features=256, out_features=512, bias=True)\n",
       "          (fc_2): Linear(in_features=512, out_features=256, bias=True)\n",
       "          (dropout): Dropout(p=0.1, inplace=False)\n",
       "        )\n",
       "        (dropout): Dropout(p=0.1, inplace=False)\n",
       "      )\n",
       "      (2): EncoderLayer(\n",
       "        (self_attn_layer_norm): LayerNorm((256,), eps=1e-05, elementwise_affine=True)\n",
       "        (ff_layer_norm): LayerNorm((256,), eps=1e-05, elementwise_affine=True)\n",
       "        (self_attention): MultiHeadAttentionLayer(\n",
       "          (fc_q): Linear(in_features=256, out_features=256, bias=True)\n",
       "          (fc_k): Linear(in_features=256, out_features=256, bias=True)\n",
       "          (fc_v): Linear(in_features=256, out_features=256, bias=True)\n",
       "          (fc_o): Linear(in_features=256, out_features=256, bias=True)\n",
       "          (dropout): Dropout(p=0.1, inplace=False)\n",
       "        )\n",
       "        (positionwise_feedforward): PositionwiseFeedforwardLayer(\n",
       "          (fc_1): Linear(in_features=256, out_features=512, bias=True)\n",
       "          (fc_2): Linear(in_features=512, out_features=256, bias=True)\n",
       "          (dropout): Dropout(p=0.1, inplace=False)\n",
       "        )\n",
       "        (dropout): Dropout(p=0.1, inplace=False)\n",
       "      )\n",
       "    )\n",
       "    (dropout): Dropout(p=0.1, inplace=False)\n",
       "  )\n",
       "  (decoder): Decoder(\n",
       "    (tok_embedding): Embedding(6845, 256)\n",
       "    (pos_embedding): Embedding(100, 256)\n",
       "    (layers): ModuleList(\n",
       "      (0): DecoderLayer(\n",
       "        (self_attn_layer_norm): LayerNorm((256,), eps=1e-05, elementwise_affine=True)\n",
       "        (enc_attn_layer_norm): LayerNorm((256,), eps=1e-05, elementwise_affine=True)\n",
       "        (ff_layer_norm): LayerNorm((256,), eps=1e-05, elementwise_affine=True)\n",
       "        (self_attention): MultiHeadAttentionLayer(\n",
       "          (fc_q): Linear(in_features=256, out_features=256, bias=True)\n",
       "          (fc_k): Linear(in_features=256, out_features=256, bias=True)\n",
       "          (fc_v): Linear(in_features=256, out_features=256, bias=True)\n",
       "          (fc_o): Linear(in_features=256, out_features=256, bias=True)\n",
       "          (dropout): Dropout(p=0.1, inplace=False)\n",
       "        )\n",
       "        (encoder_attention): MultiHeadAttentionLayer(\n",
       "          (fc_q): Linear(in_features=256, out_features=256, bias=True)\n",
       "          (fc_k): Linear(in_features=256, out_features=256, bias=True)\n",
       "          (fc_v): Linear(in_features=256, out_features=256, bias=True)\n",
       "          (fc_o): Linear(in_features=256, out_features=256, bias=True)\n",
       "          (dropout): Dropout(p=0.1, inplace=False)\n",
       "        )\n",
       "        (positionwise_feedforward): PositionwiseFeedforwardLayer(\n",
       "          (fc_1): Linear(in_features=256, out_features=512, bias=True)\n",
       "          (fc_2): Linear(in_features=512, out_features=256, bias=True)\n",
       "          (dropout): Dropout(p=0.1, inplace=False)\n",
       "        )\n",
       "        (dropout): Dropout(p=0.1, inplace=False)\n",
       "      )\n",
       "      (1): DecoderLayer(\n",
       "        (self_attn_layer_norm): LayerNorm((256,), eps=1e-05, elementwise_affine=True)\n",
       "        (enc_attn_layer_norm): LayerNorm((256,), eps=1e-05, elementwise_affine=True)\n",
       "        (ff_layer_norm): LayerNorm((256,), eps=1e-05, elementwise_affine=True)\n",
       "        (self_attention): MultiHeadAttentionLayer(\n",
       "          (fc_q): Linear(in_features=256, out_features=256, bias=True)\n",
       "          (fc_k): Linear(in_features=256, out_features=256, bias=True)\n",
       "          (fc_v): Linear(in_features=256, out_features=256, bias=True)\n",
       "          (fc_o): Linear(in_features=256, out_features=256, bias=True)\n",
       "          (dropout): Dropout(p=0.1, inplace=False)\n",
       "        )\n",
       "        (encoder_attention): MultiHeadAttentionLayer(\n",
       "          (fc_q): Linear(in_features=256, out_features=256, bias=True)\n",
       "          (fc_k): Linear(in_features=256, out_features=256, bias=True)\n",
       "          (fc_v): Linear(in_features=256, out_features=256, bias=True)\n",
       "          (fc_o): Linear(in_features=256, out_features=256, bias=True)\n",
       "          (dropout): Dropout(p=0.1, inplace=False)\n",
       "        )\n",
       "        (positionwise_feedforward): PositionwiseFeedforwardLayer(\n",
       "          (fc_1): Linear(in_features=256, out_features=512, bias=True)\n",
       "          (fc_2): Linear(in_features=512, out_features=256, bias=True)\n",
       "          (dropout): Dropout(p=0.1, inplace=False)\n",
       "        )\n",
       "        (dropout): Dropout(p=0.1, inplace=False)\n",
       "      )\n",
       "      (2): DecoderLayer(\n",
       "        (self_attn_layer_norm): LayerNorm((256,), eps=1e-05, elementwise_affine=True)\n",
       "        (enc_attn_layer_norm): LayerNorm((256,), eps=1e-05, elementwise_affine=True)\n",
       "        (ff_layer_norm): LayerNorm((256,), eps=1e-05, elementwise_affine=True)\n",
       "        (self_attention): MultiHeadAttentionLayer(\n",
       "          (fc_q): Linear(in_features=256, out_features=256, bias=True)\n",
       "          (fc_k): Linear(in_features=256, out_features=256, bias=True)\n",
       "          (fc_v): Linear(in_features=256, out_features=256, bias=True)\n",
       "          (fc_o): Linear(in_features=256, out_features=256, bias=True)\n",
       "          (dropout): Dropout(p=0.1, inplace=False)\n",
       "        )\n",
       "        (encoder_attention): MultiHeadAttentionLayer(\n",
       "          (fc_q): Linear(in_features=256, out_features=256, bias=True)\n",
       "          (fc_k): Linear(in_features=256, out_features=256, bias=True)\n",
       "          (fc_v): Linear(in_features=256, out_features=256, bias=True)\n",
       "          (fc_o): Linear(in_features=256, out_features=256, bias=True)\n",
       "          (dropout): Dropout(p=0.1, inplace=False)\n",
       "        )\n",
       "        (positionwise_feedforward): PositionwiseFeedforwardLayer(\n",
       "          (fc_1): Linear(in_features=256, out_features=512, bias=True)\n",
       "          (fc_2): Linear(in_features=512, out_features=256, bias=True)\n",
       "          (dropout): Dropout(p=0.1, inplace=False)\n",
       "        )\n",
       "        (dropout): Dropout(p=0.1, inplace=False)\n",
       "      )\n",
       "    )\n",
       "    (fc_out): Linear(in_features=256, out_features=6845, bias=True)\n",
       "    (dropout): Dropout(p=0.1, inplace=False)\n",
       "  )\n",
       ")"
      ]
     },
     "execution_count": 139,
     "metadata": {},
     "output_type": "execute_result"
    }
   ],
   "source": [
    "transformer_model"
   ]
  },
  {
   "cell_type": "code",
   "execution_count": 140,
   "metadata": {},
   "outputs": [
    {
     "name": "stdout",
     "output_type": "stream",
     "text": [
      "Epoch: 01 | Time: 0m 19s\n",
      "\tTrain Loss: 4.304 | Train PPL:  74.003\n",
      "\t Val. Loss: 2.884 |  Val. PPL:  17.891\n",
      "Epoch: 02 | Time: 0m 18s\n",
      "\tTrain Loss: 2.833 | Train PPL:  17.004\n",
      "\t Val. Loss: 2.471 |  Val. PPL:  11.829\n",
      "Epoch: 03 | Time: 0m 19s\n",
      "\tTrain Loss: 2.510 | Train PPL:  12.310\n",
      "\t Val. Loss: 2.319 |  Val. PPL:  10.161\n",
      "Epoch: 04 | Time: 0m 19s\n",
      "\tTrain Loss: 2.327 | Train PPL:  10.250\n",
      "\t Val. Loss: 2.220 |  Val. PPL:   9.212\n",
      "Epoch: 05 | Time: 0m 19s\n",
      "\tTrain Loss: 2.196 | Train PPL:   8.989\n",
      "\t Val. Loss: 2.154 |  Val. PPL:   8.615\n",
      "Epoch: 06 | Time: 0m 19s\n",
      "\tTrain Loss: 2.087 | Train PPL:   8.064\n",
      "\t Val. Loss: 2.112 |  Val. PPL:   8.266\n",
      "Epoch: 07 | Time: 0m 19s\n",
      "\tTrain Loss: 1.996 | Train PPL:   7.359\n",
      "\t Val. Loss: 2.080 |  Val. PPL:   8.001\n",
      "Epoch: 08 | Time: 0m 19s\n",
      "\tTrain Loss: 1.916 | Train PPL:   6.797\n",
      "\t Val. Loss: 2.059 |  Val. PPL:   7.834\n",
      "Epoch: 09 | Time: 0m 19s\n",
      "\tTrain Loss: 1.844 | Train PPL:   6.324\n",
      "\t Val. Loss: 2.048 |  Val. PPL:   7.749\n",
      "Epoch: 10 | Time: 0m 19s\n",
      "\tTrain Loss: 1.781 | Train PPL:   5.936\n",
      "\t Val. Loss: 2.027 |  Val. PPL:   7.592\n"
     ]
    },
    {
     "data": {
      "image/png": "[encoded data removed]",
      "text/plain": [
       "<Figure size 864x576 with 2 Axes>"
      ]
     },
     "metadata": {
      "needs_background": "light"
     },
     "output_type": "display_data"
    },
    {
     "name": "stdout",
     "output_type": "stream",
     "text": [
      "| Test Loss: 1.968 | Test PPL:   7.154 |\n"
     ]
    }
   ],
   "source": [
    "train_model(transformer_model, train_iterator, valid_iterator, test_iterator, trg_field, n_epochs=10)"
   ]
  },
  {
   "cell_type": "code",
   "execution_count": 142,
   "metadata": {},
   "outputs": [
    {
     "name": "stderr",
     "output_type": "stream",
     "text": [
      "118it [00:00, 135.01it/s]\n"
     ]
    },
    {
     "name": "stdout",
     "output_type": "stream",
     "text": [
      "elapsed: 0.8756623268127441\n",
      "time for batch with size 32 = 0.0037104335881895938 s\n",
      "bleu: 25.517869230627678\n",
      "\n",
      "best 10 translations:\n",
      "\n",
      "\toriginal: the property offers free parking .\n",
      "\tgenerated: the property offers free parking .\n",
      "\tscore = 100.0\n",
      "\n",
      "\toriginal: room service is available .\n",
      "\tgenerated: room service is available .\n",
      "\tscore = 100.0\n",
      "\n",
      "\toriginal: bed linen is featured .\n",
      "\tgenerated: bed linen is featured .\n",
      "\tscore = 100.0\n",
      "\n",
      "\toriginal: towels are featured .\n",
      "\tgenerated: towels are featured .\n",
      "\tscore = 100.0\n",
      "\n",
      "\toriginal: guests can enjoy the on - site restaurant .\n",
      "\tgenerated: guests can enjoy the on - site restaurant .\n",
      "\tscore = 100.0\n",
      "\n",
      "\toriginal: you will find a 24 - hour front desk at the property .\n",
      "\tgenerated: you will find a 24 - hour front desk at the property .\n",
      "\tscore = 100.0\n",
      "\n",
      "\toriginal: free wifi access is available .\n",
      "\tgenerated: free wifi access is available .\n",
      "\tscore = 100.0\n",
      "\n",
      "\toriginal: guests can enjoy the on - site bar .\n",
      "\tgenerated: guests can enjoy the on - site bar .\n",
      "\tscore = 100.0\n",
      "\n",
      "\toriginal: free private parking is possible on site .\n",
      "\tgenerated: free private parking is possible on site .\n",
      "\tscore = 100.0\n",
      "\n",
      "\toriginal: all rooms have a balcony .\n",
      "\tgenerated: all rooms have a balcony .\n",
      "\tscore = 100.0\n",
      "\n",
      "worst 10 translations:\n",
      "\n",
      "\toriginal: several shopping malls are located minutes away . a variety of restaurants , entertainment options and cocktail lounges are located in the surrounding area .\n",
      "\tgenerated: the restaurants and , also nearby ’ from\n",
      "\tscore = 1.8296796196198143e-230\n",
      "\n",
      "\toriginal: roma trastevere is 2 km from short . villa and the are a 20 - minute walk away .\n",
      "\tgenerated: a minutes from distance beach and\n",
      "\tscore = 1.7550094010267843e-230\n",
      "\n",
      "\toriginal: the foundation of islamic is just across the road .\n",
      "\tgenerated: next the .\n",
      "\tscore = 1.5963632367165957e-230\n",
      "\n",
      "\toriginal: .\n",
      "\tgenerated: you\n",
      "\tscore = 0\n",
      "\n",
      "\toriginal: vendégház .\n",
      "\tgenerated: the can is\n",
      "\tscore = 0\n",
      "\n",
      "\toriginal: wood log accents are styled throughout .\n",
      "\tgenerated: the is provided in the\n",
      "\tscore = 0\n",
      "\n",
      "\toriginal: it also features an innovative .\n",
      "\tgenerated: the is offers a menu\n",
      "\tscore = 0\n",
      "\n",
      "\toriginal: the adjacent complex features sea - water swimming pools .\n",
      "\tgenerated: guests property to has a views to sports pool with\n",
      "\tscore = 0\n",
      "\n",
      "\toriginal: one free parking space is for each room or apartment .\n",
      "\tgenerated: it of wi and and available and all stay and on\n",
      "\tscore = 0\n",
      "\n",
      "\toriginal: the hotel also features two bars .\n",
      "\tgenerated: guests property has has a saunas and\n",
      "\tscore = 0\n",
      "\n"
     ]
    }
   ],
   "source": [
    "examples = calc_metrics(transformer_model, predict_model, get_original_text, get_generated_text, trg_field, test_iterator, n_examples=10)"
   ]
  },
  {
   "cell_type": "markdown",
   "metadata": {},
   "source": [
    "Неожиданно, хотя результат оказался и неплохим (побили порог 25), но заметно хуже, чем в случае в CNN. Однако видим, что на протяжении всех 10 эпох лосс на валидации падал, и, возможно, если дать еще пообучаться, то результат бы был лучше."
   ]
  },
  {
   "cell_type": "markdown",
   "metadata": {},
   "source": [
    "Итого, подводя итоги:"
   ]
  },
  {
   "cell_type": "markdown",
   "metadata": {},
   "source": [
    "| Эксперимент      | BLEU | Длительность одной эпохи на обучении | Скорость на инференсе (батч 32) | Склонность к переобучению |\n",
    "| ----------------- | ----------- | ----------- | ----------- | ----------- | \n",
    "| rnn + attention      | 28.21       | 1 m 55 s | 0.0177 s | после 3 эпохи |\n",
    "| pretrained emb   | 18.13        | 57 s | 0.0099 s | после 7 эпохи |\n",
    "| cnn   | 37.35        | 55 s | 0.0099 s | на 10 эпохах не начало |\n",
    "| transfprmer   | 25.52        | 19 s | 0.0037 s | на 10 эпохах не начало |"
   ]
  },
  {
   "cell_type": "code",
   "execution_count": null,
   "metadata": {},
   "outputs": [],
   "source": []
  }
 ],
 "metadata": {
  "anaconda-cloud": {},
  "colab": {
   "collapsed_sections": [],
   "machine_shape": "hm",
   "name": "homework.ipynb",
   "provenance": []
  },
  "kernelspec": {
   "display_name": "hh.kardinal-venv-new1",
   "language": "python",
   "name": "hh.kardinal-venv-new1"
  },
  "language_info": {
   "codemirror_mode": {
    "name": "ipython",
    "version": 3
   },
   "file_extension": ".py",
   "mimetype": "text/x-python",
   "name": "python",
   "nbconvert_exporter": "python",
   "pygments_lexer": "ipython3",
   "version": "3.6.9"
  }
 },
 "nbformat": 4,
 "nbformat_minor": 4
}
